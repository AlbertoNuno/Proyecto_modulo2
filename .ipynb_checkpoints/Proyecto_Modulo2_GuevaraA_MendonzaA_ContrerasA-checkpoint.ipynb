{
 "cells": [
  {
   "cell_type": "markdown",
   "metadata": {
    "collapsed": true
   },
   "source": [
    "# Modelo matemático del crecimiento y tratamiento de un tumor"
   ]
  },
  {
   "cell_type": "markdown",
   "metadata": {},
   "source": [
    "$$\\frac{dc}{dt} = -\\lambda\\ c\\log \\frac{c}{K} \\; $$\n",
    "\n",
    "$$\\frac {dK}{dt} =\\phi c  -\\varphi k c^\\frac {2}{3} $$\n",
    "\n",
    " _c_ representa al tamaño del tumor a través del tiempo \n",
    " \n",
    " _k_ representa al capacidad de carga del tumor\n",
    " \n",
    " Parámetros:\n",
    " \n",
    "$\\phi = 5.85 $ \n",
    "\n",
    "$\\lambda = 0.192 $ \n",
    "\n",
    "$ \\varphi = 0.00873 $  "
   ]
  },
  {
   "cell_type": "markdown",
   "metadata": {
    "collapsed": true
   },
   "source": [
    "## Simulación"
   ]
  },
  {
   "cell_type": "code",
   "execution_count": 11,
   "metadata": {
    "collapsed": true
   },
   "outputs": [],
   "source": [
    "import numpy as np\n",
    "import matplotlib.pyplot as plt\n",
    "%matplotlib inline\n",
    "\n",
    "from scipy.integrate import odeint\n",
    "\n",
    "\n"
   ]
  },
  {
   "cell_type": "code",
   "execution_count": 12,
   "metadata": {
    "collapsed": true
   },
   "outputs": [],
   "source": [
    "def crecimiento_tratamiento(x,t,phi,rho,lamda,XIval):\n",
    "    x1 = x[0]\n",
    "    x2 = x[1]\n",
    "    if t<40:\n",
    "        XI = 0\n",
    "    else:\n",
    "        XI = XIval\n",
    "    return [-lamda*x1*np.log10(x1/x2)-XI*x1,\n",
    "             phi*x1-rho*x2*(x1**(2/3))]"
   ]
  },
  {
   "cell_type": "code",
   "execution_count": 15,
   "metadata": {
    "collapsed": true
   },
   "outputs": [],
   "source": [
    "## condiciones iniciales\n",
    "phi = 5.85#parametro\n",
    "rho = 0.00873#parametro\n",
    "lamda=0.192#parametro\n",
    "XI = 0.1 # condicion iniail ? Valor arbitrario\n",
    "x0 = [200, 500]\n",
    "t = np.linspace(0,61,10000)"
   ]
  },
  {
   "cell_type": "code",
   "execution_count": 16,
   "metadata": {
    "collapsed": true
   },
   "outputs": [],
   "source": [
    "x = odeint(crecimiento_tratamiento, x0, t, args=(phi,rho,lamda,XI))"
   ]
  },
  {
   "cell_type": "code",
   "execution_count": 17,
   "metadata": {},
   "outputs": [
    {
     "data": {
      "text/plain": [
       "array([[   200.        ,    500.        ],\n",
       "       [   200.09385071,    506.22287121],\n",
       "       [   200.18894888,    512.43749197],\n",
       "       ..., \n",
       "       [  4270.45708011,  10906.88049466],\n",
       "       [  4269.88894417,  10906.38820889],\n",
       "       [  4269.32107473,  10905.89610894]])"
      ]
     },
     "execution_count": 17,
     "metadata": {},
     "output_type": "execute_result"
    }
   ],
   "source": [
    "x"
   ]
  },
  {
   "cell_type": "code",
   "execution_count": 1,
   "metadata": {},
   "outputs": [
    {
     "ename": "NameError",
     "evalue": "name 'plt' is not defined",
     "output_type": "error",
     "traceback": [
      "\u001b[1;31m---------------------------------------------------------------------------\u001b[0m",
      "\u001b[1;31mNameError\u001b[0m                                 Traceback (most recent call last)",
      "\u001b[1;32m<ipython-input-1-c92833a9263c>\u001b[0m in \u001b[0;36m<module>\u001b[1;34m()\u001b[0m\n\u001b[1;32m----> 1\u001b[1;33m \u001b[0mplt\u001b[0m\u001b[1;33m.\u001b[0m\u001b[0mplot\u001b[0m\u001b[1;33m(\u001b[0m\u001b[0mt\u001b[0m\u001b[1;33m,\u001b[0m \u001b[0mx\u001b[0m\u001b[1;33m[\u001b[0m\u001b[1;33m:\u001b[0m\u001b[1;33m,\u001b[0m\u001b[1;36m0\u001b[0m\u001b[1;33m]\u001b[0m\u001b[1;33m,\u001b[0m \u001b[0mt\u001b[0m\u001b[1;33m,\u001b[0m \u001b[0mx\u001b[0m\u001b[1;33m[\u001b[0m\u001b[1;33m:\u001b[0m\u001b[1;33m,\u001b[0m\u001b[1;36m1\u001b[0m\u001b[1;33m]\u001b[0m\u001b[1;33m)\u001b[0m\u001b[1;33m\u001b[0m\u001b[0m\n\u001b[0m",
      "\u001b[1;31mNameError\u001b[0m: name 'plt' is not defined"
     ]
    }
   ],
   "source": [
    "plt.plot(t, x[:,0], t, x[:,1])"
   ]
  },
  {
   "cell_type": "code",
   "execution_count": null,
   "metadata": {
    "collapsed": true
   },
   "outputs": [],
   "source": []
  }
 ],
 "metadata": {
  "kernelspec": {
   "display_name": "Python 3",
   "language": "python",
   "name": "python3"
  },
  "language_info": {
   "codemirror_mode": {
    "name": "ipython",
    "version": 3
   },
   "file_extension": ".py",
   "mimetype": "text/x-python",
   "name": "python",
   "nbconvert_exporter": "python",
   "pygments_lexer": "ipython3",
   "version": "3.6.3"
  }
 },
 "nbformat": 4,
 "nbformat_minor": 2
}
